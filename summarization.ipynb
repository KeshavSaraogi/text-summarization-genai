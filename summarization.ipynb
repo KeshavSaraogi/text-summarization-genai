{
 "cells": [
  {
   "cell_type": "code",
   "execution_count": null,
   "metadata": {},
   "outputs": [],
   "source": [
    "import os\n",
    "from dotenv import load_dotenv\n",
    "load_dotenv()"
   ]
  },
  {
   "cell_type": "code",
   "execution_count": null,
   "metadata": {},
   "outputs": [],
   "source": [
    "from langchain_groq import ChatGroq\n",
    "\n",
    "apiKey = os.getenv(\"GROQ_API_KEY\")\n",
    "llm = ChatGroq(groq_api_key = apiKey, model = \"gemma2-9b-it\")\n",
    "llm"
   ]
  },
  {
   "cell_type": "code",
   "execution_count": null,
   "metadata": {},
   "outputs": [],
   "source": [
    "speech=\"\"\"\n",
    "People across the country, involved in government, political, and social activities, are dedicating their time to make the ‘Viksit Bharat Sankalp Yatra’ (Developed India Resolution Journey) successful. \n",
    "Therefore, as a Member of Parliament, it was my responsibility to also contribute my time to this program. So, today, I have come here just as a Member of Parliament and your ‘sevak’, ready to participate in this program, much like you.\n",
    "In our country, governments have come and gone, numerous schemes have been formulated, discussions have taken place, and big promises have been made. However, my experience and observations led me to believe that the most critical aspect that requires attention is ensuring that the government’s plans reach the intended beneficiaries without any hassles. \n",
    "If there is a ‘Pradhan Mantri Awas Yojana’ (Prime Minister’s housing scheme), then those who are living in jhuggis and slums should get their houses. And he should not need to make rounds of the government offices for this purpose. \n",
    "The government should reach him. Since you have assigned this responsibility to me, about four crore families have got their ‘pucca’ houses. However, I have encountered cases where someone is left out of the government benefits. \n",
    "Therefore, I have decided to tour the country again, to listen to people’s experiences with government schemes, to understand whether they received the intended benefits, and to ensure that the programs are reaching everyone as planned without paying any bribes. \n",
    "We will get the real picture if we visit them again. Therefore, this ‘Viksit Bharat Sankalp Yatra’ is, in a way, my own examination. I want to hear from you and the people across the country whether what I envisioned and the work I have been doing aligns with reality and whether it has reached those for whom it was meant.\n",
    "It is crucial to check whether the work that was supposed to happen has indeed taken place. \n",
    "I recently met some individuals who utilized the Ayushman card to get treatment for serious illnesses. \n",
    "One person met with a severe accident, and after using the card, he could afford the necessary operation, and now he is recovering well. \n",
    "When I asked him, he said: “How could I afford this treatment? Now that there is the Ayushman card, I mustered courage and underwent an operation. \n",
    "Now I am perfectly fine.”  Such stories are blessings to me.\n",
    "The bureaucrats, who prepare good schemes, expedite the paperwork and even allocate funds, also feel satisfied that 50 or 100 people who were supposed to get the funds have got it. \n",
    "The funds meant for a thousand villages have been released. \n",
    "But their job satisfaction peaks when they hear that their work has directly impacted someone’s life positively. \n",
    "When they see the tangible results of their efforts, their enthusiasm multiplies. They feel satisfied. \n",
    "Therefore, ‘Viksit Bharat Sankalp Yatra’ has had a positive impact on government officers. \n",
    "It has made them more enthusiastic about their work, especially when they witness the tangible benefits reaching the people. \n",
    "Officers now feel satisfied with their work, saying, “I made a good plan, I created a file, and the intended beneficiaries received the benefits.” \n",
    "When they find that the money has reached a poor widow under the Jeevan Jyoti scheme and it was a great help to her during her crisis, they realise that they have done a good job. \n",
    "When a government officer listens to such stories, he feels very satisfied.\n",
    "There are very few who understand the power and impact of the ‘Viksit Bharat Sankalp Yatra’. \n",
    "When I hear people connected to bureaucratic circles talking about it, expressing their satisfaction, it resonates with me. \n",
    "I’ve heard stories where someone suddenly received 2 lakh rupees after the death of her husband, and a sister mentioned how the arrival of gas in her home transformed her lives. \n",
    "The most significant aspect is when someone says that the line between rich and poor has vanished. \n",
    "While the slogan ‘Garibi Hatao’ (Remove Poverty) is one thing, but the real change happens when a person says, “As soon as the gas stove came to my house, the distinction between poverty and affluence disappeared.\n",
    "\"\"\"\n",
    "\n",
    "speech"
   ]
  },
  {
   "cell_type": "code",
   "execution_count": null,
   "metadata": {},
   "outputs": [],
   "source": [
    "from langchain.schema import AIMessage, HumanMessage, SystemMessage\n",
    "\n",
    "chatMessage = [\n",
    "    SystemMessage(content = \"You are an expert with expertise in summarizing speeches\"),\n",
    "    HumanMessage(content = f\"Please provide a short and concise summary of the following speech: \\n Text:{speech}\")\n",
    "]"
   ]
  },
  {
   "cell_type": "code",
   "execution_count": null,
   "metadata": {},
   "outputs": [],
   "source": [
    "llm.get_num_tokens(speech)"
   ]
  },
  {
   "cell_type": "markdown",
   "metadata": {},
   "source": [
    "## Summarization Techniques"
   ]
  },
  {
   "cell_type": "code",
   "execution_count": null,
   "metadata": {},
   "outputs": [],
   "source": [
    "llm(chatMessage).content"
   ]
  },
  {
   "cell_type": "markdown",
   "metadata": {},
   "source": [
    "#### Prompt Template"
   ]
  },
  {
   "cell_type": "code",
   "execution_count": null,
   "metadata": {},
   "outputs": [],
   "source": [
    "from langchain.chains import LLMChain\n",
    "from langchain import PromptTemplate\n",
    "\n",
    "genericTemplate = \"\"\"\n",
    "Write a summary of the following speech:\n",
    "Speech:{speech}\n",
    "Translate the precise summary to {language}\n",
    "\"\"\"\n",
    "\n",
    "prompt = PromptTemplate(\n",
    "    inputvariables = ['speech', 'language'],\n",
    "    template =  genericTemplate\n",
    ")\n",
    "\n",
    "prompt"
   ]
  },
  {
   "cell_type": "code",
   "execution_count": null,
   "metadata": {},
   "outputs": [],
   "source": [
    "completePrompt = prompt.format(speech = speech, language = \"French\")\n",
    "completePrompt"
   ]
  },
  {
   "cell_type": "code",
   "execution_count": null,
   "metadata": {},
   "outputs": [],
   "source": [
    "llm.get_num_tokens(completePrompt)"
   ]
  },
  {
   "cell_type": "code",
   "execution_count": null,
   "metadata": {},
   "outputs": [],
   "source": [
    "llmChain = LLMChain(llm = llm, prompt = prompt)\n",
    "summary = llmChain.run({'speech': speech, 'language': 'Hindi'})"
   ]
  },
  {
   "cell_type": "code",
   "execution_count": null,
   "metadata": {},
   "outputs": [],
   "source": [
    "summary"
   ]
  },
  {
   "cell_type": "markdown",
   "metadata": {},
   "source": [
    "### 1-  Stuff Document Chain"
   ]
  },
  {
   "cell_type": "code",
   "execution_count": null,
   "metadata": {},
   "outputs": [],
   "source": [
    "from langchain_community.document_loaders   import PyPDFLoader\n",
    "\n",
    "pdfLoader = PyPDFLoader(\"data/apjspeech.pdf\")\n",
    "docs = pdfLoader.load_and_split()\n",
    "docs"
   ]
  },
  {
   "cell_type": "code",
   "execution_count": null,
   "metadata": {},
   "outputs": [],
   "source": [
    "template = \"\"\"\n",
    "Write a concise and short summary of the following speech,\n",
    "Speech: {text}\n",
    "\"\"\"\n",
    "\n",
    "prompt = PromptTemplate(input_variables = ['text'], template = template)"
   ]
  },
  {
   "cell_type": "code",
   "execution_count": null,
   "metadata": {},
   "outputs": [],
   "source": [
    "from langchain.chains.summarize import load_summarize_chain\n",
    "\n",
    "chain = load_summarize_chain(llm, chain_type = 'stuff', prompt = prompt, verbose = True)\n",
    "outputSummary = chain.run(docs)"
   ]
  },
  {
   "cell_type": "code",
   "execution_count": null,
   "metadata": {},
   "outputs": [],
   "source": [
    "outputSummary"
   ]
  },
  {
   "cell_type": "markdown",
   "metadata": {},
   "source": [
    "### 2- Map Reduce"
   ]
  },
  {
   "cell_type": "code",
   "execution_count": null,
   "metadata": {},
   "outputs": [],
   "source": [
    "from langchain.text_splitter import RecursiveCharacterTextSplitter\n",
    "\n",
    "finalDocuments = RecursiveCharacterTextSplitter(chunk_size = 2000, chunk_overlap = 100).split_documents(docs)\n",
    "finalDocuments"
   ]
  },
  {
   "cell_type": "code",
   "execution_count": null,
   "metadata": {},
   "outputs": [],
   "source": [
    "chunkPrompt = \"\"\"\n",
    "Please summarize the sppech provided below:\n",
    "Speech: `{text}`\n",
    "Summary: \n",
    "\"\"\"\n",
    "\n",
    "mapPromptTemplate = PromptTemplate(input_variables = ['text'], template = chunkPrompt)"
   ]
  },
  {
   "cell_type": "code",
   "execution_count": null,
   "metadata": {},
   "outputs": [],
   "source": [
    "finalPrompt = '''\n",
    "Provide the final summary of the entire speech with these importatnt points.\n",
    "Please go ahead and add a motivational Title, Start the precise summary with an introduction,\n",
    "and provide the summary in number points for the speech. \n",
    "Speech: {text}\n",
    "'''\n",
    "\n",
    "finalPromptTemplate = PromptTemplate(input_variables = ['text'], template = finalPrompt)\n",
    "finalPromptTemplate"
   ]
  },
  {
   "cell_type": "code",
   "execution_count": null,
   "metadata": {},
   "outputs": [],
   "source": [
    "summaryChain = load_summarize_chain(\n",
    "    llm = llm, \n",
    "    chain_type = \"map_reduce\", \n",
    "    map_prompt = mapPromptTemplate, \n",
    "    combine_prompt = finalPromptTemplate,\n",
    "    verbose = True\n",
    ")\n",
    "\n",
    "output = summaryChain.run(finalDocuments)\n",
    "output"
   ]
  },
  {
   "cell_type": "markdown",
   "metadata": {},
   "source": [
    "### 3- Refine Chain"
   ]
  },
  {
   "cell_type": "code",
   "execution_count": null,
   "metadata": {},
   "outputs": [],
   "source": [
    "chain = load_summarize_chain(\n",
    "    llm = llm,\n",
    "    chain_type = \"refine\",\n",
    "    verbose = True\n",
    ")\n",
    "\n",
    "outputSummary = chain.run(finalDocuments)\n",
    "outputSummary"
   ]
  }
 ],
 "metadata": {
  "kernelspec": {
   "display_name": "text_venv",
   "language": "python",
   "name": "python3"
  },
  "language_info": {
   "codemirror_mode": {
    "name": "ipython",
    "version": 3
   },
   "file_extension": ".py",
   "mimetype": "text/x-python",
   "name": "python",
   "nbconvert_exporter": "python",
   "pygments_lexer": "ipython3",
   "version": "3.10.0"
  }
 },
 "nbformat": 4,
 "nbformat_minor": 2
}
